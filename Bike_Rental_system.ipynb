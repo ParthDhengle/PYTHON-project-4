{
  "nbformat": 4,
  "nbformat_minor": 0,
  "metadata": {
    "colab": {
      "provenance": [],
      "authorship_tag": "ABX9TyPOuGSqk352Jv7srWpquMTO",
      "include_colab_link": true
    },
    "kernelspec": {
      "name": "python3",
      "display_name": "Python 3"
    },
    "language_info": {
      "name": "python"
    }
  },
  "cells": [
    {
      "cell_type": "markdown",
      "metadata": {
        "id": "view-in-github",
        "colab_type": "text"
      },
      "source": [
        "<a href=\"https://colab.research.google.com/github/ParthDhengle/PYTHON-project-4/blob/main/Bike_Rental_system.ipynb\" target=\"_parent\"><img src=\"https://colab.research.google.com/assets/colab-badge.svg\" alt=\"Open In Colab\"/></a>"
      ]
    },
    {
      "cell_type": "markdown",
      "metadata": {
        "id": "5cada111"
      },
      "source": [
        "A Bike Rental System\n",
        "\n",
        "A full fledged bike rental system implemented in Python using object oriented programming.\n",
        "\n",
        "Customers can see available bikes on the shop.\n",
        "Rent bikes on daily basis Rs.100 per day.\n",
        "Rent bikes on weekly basis Rs.500 per week.\n",
        "Family Rental, a promotion that can include from 3 to 5 Rentals (of any type) with a discount of 30% of the total price.\n",
        "\n",
        "The bike rental shop can issue a bill when customer decides to return the bike,\n",
        "display available inventory ,take requests on daily and weekly basis by cross verifying stock.\n",
        "\n",
        "For simplicity we assume that\n",
        "Any customer requests rentals of only one type i.e daily or weekly and is free to choose the number of bikes he/she wants.\n",
        "Requested bikes should be less than available stock."
      ]
    },
    {
      "cell_type": "code",
      "execution_count": 1,
      "metadata": {
        "id": "8816e06c"
      },
      "outputs": [],
      "source": [
        "class BikeRental:\n",
        "  stock=100\n",
        "  def __init__(self):\n",
        "    print(\"Welcome to rental bike shop.\")\n",
        "  def displaystock(self):\n",
        "    print(self.stock)"
      ]
    },
    {
      "cell_type": "code",
      "execution_count": 2,
      "metadata": {
        "id": "b8753564"
      },
      "outputs": [],
      "source": [
        "class Customer(BikeRental):\n",
        "  bill=0\n",
        "  def __init__(self,number_of_bikes,rentalBasis,number_of_days_or_weeks):\n",
        "    self.number_of_bikes=number_of_bikes\n",
        "    self.rentalBasis=rentalBasis\n",
        "    self.number_of_days_or_weeks=number_of_days_or_weeks\n",
        "\n",
        "  def rentBike(self):\n",
        "    if self.number_of_bikes<=0:\n",
        "      print(\"Number of bikes should be positive!\")\n",
        "    elif self.number_of_bikes>self.stock:\n",
        "      print(\"number of bikes available to rent : \",self.stock)\n",
        "    else:\n",
        "      print(f\"you have rented : {self.number_of_bikes} bikes\")\n",
        "      self.stock-=self.number_of_bikes\n",
        "      print(\"the available stock in rental is : \",self.stock)\n",
        "\n",
        "  def returnBike(self):\n",
        "    if self.rentalBasis=='day':\n",
        "      self.bill+=100*self.number_of_bikes*self.number_of_days_or_weeks\n",
        "    elif self.rentalBasis=='week':\n",
        "      self.bill+=500*self.number_of_bikes*self.number_of_days_or_weeks\n",
        "    else:\n",
        "      print(\"invalid rentalBasis \")\n",
        "\n",
        "    if (self.number_of_bikes > 2) and (self.number_of_bikes < 6):\n",
        "      print(\"You are eligible for Family rental promotion of 30% discount\")\n",
        "      self.bill-=self.bill*0.3\n",
        "    print(\"bill : \",self.bill)\n",
        "    print(\"\\n\")"
      ]
    },
    {
      "cell_type": "markdown",
      "source": [
        "# Test Cases:"
      ],
      "metadata": {
        "id": "kifLNfjzfOo2"
      }
    },
    {
      "cell_type": "code",
      "execution_count": 3,
      "metadata": {
        "colab": {
          "base_uri": "https://localhost:8080/"
        },
        "id": "40d0a7aa",
        "outputId": "f917c253-3194-4a9c-a936-508c9538379d"
      },
      "outputs": [
        {
          "output_type": "stream",
          "name": "stdout",
          "text": [
            "you have rented : 2 bikes\n",
            "the available stock in rental is :  98\n",
            "bill :  1000\n",
            "\n",
            "\n",
            "you have rented : 1 bikes\n",
            "the available stock in rental is :  99\n",
            "bill :  1500\n",
            "\n",
            "\n",
            "you have rented : 4 bikes\n",
            "the available stock in rental is :  96\n",
            "you have rented : 3 bikes\n",
            "the available stock in rental is :  97\n",
            "You are eligible for Family rental promotion of 30% discount\n",
            "bill :  3150.0\n",
            "\n",
            "\n",
            "You are eligible for Family rental promotion of 30% discount\n",
            "bill :  840.0\n",
            "\n",
            "\n"
          ]
        }
      ],
      "source": [
        "customer_1 = Customer(2,'day',5)\n",
        "customer_1.rentBike()\n",
        "customer_1.returnBike()\n",
        "\n",
        "customer_2 = Customer(1,'week',3)\n",
        "customer_2.rentBike()\n",
        "customer_2.returnBike()\n",
        "\n",
        "customer_3 = Customer(4,'day',3)\n",
        "customer_3.rentBike()\n",
        "\n",
        "customer_4 = Customer(3,'week',3)\n",
        "customer_4.rentBike()\n",
        "customer_4.returnBike()\n",
        "\n",
        "customer_3.returnBike()\n",
        "#number_of_bikes,rentalBasis,number_of_days_or_weeks"
      ]
    },
    {
      "cell_type": "code",
      "source": [],
      "metadata": {
        "id": "2D3fLignfVl9"
      },
      "execution_count": null,
      "outputs": []
    }
  ]
}